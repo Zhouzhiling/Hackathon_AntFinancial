{
 "cells": [
  {
   "cell_type": "code",
   "execution_count": 1,
   "metadata": {},
   "outputs": [],
   "source": [
    "import pandas as pd\n",
    "import lightgbm as lgb\n",
    "import numpy as np\n",
    "import pandas as pd\n",
    "from sklearn.model_selection import KFold\n",
    "from sklearn import metrics\n",
    "from sklearn.model_selection import GridSearchCV\n",
    "import matplotlib.pyplot as plt"
   ]
  },
  {
   "cell_type": "code",
   "execution_count": 2,
   "metadata": {},
   "outputs": [],
   "source": [
    "def Normalization(x):\n",
    "    max_val = max(x)\n",
    "    min_val = min(x)\n",
    "    return [(i-min_val)/(max_val-min_val) for i in x]"
   ]
  },
  {
   "cell_type": "code",
   "execution_count": 3,
   "metadata": {},
   "outputs": [],
   "source": [
    "def weight_lost_cal(real, pre):\n",
    "    \n",
    "    test_auc = metrics.roc_auc_score(real, pre)\n",
    "    fpr, tpr, thresholds = metrics.roc_curve(real, pre, pos_label=1) \n",
    "    score=0.4*tpr[np.where(fpr>=0.001)[0][0]]+0.3*tpr[np.where(fpr>=0.005)[0][0]]+0.3*tpr[np.where(fpr>=0.01)[0][0]] \n",
    "    \n",
    "    print(\"AUC value = \" + str(test_auc))\n",
    "    print(\"Score = \" + str(score))\n",
    "    return score"
   ]
  },
  {
   "cell_type": "code",
   "execution_count": 4,
   "metadata": {},
   "outputs": [],
   "source": [
    "# read data\n",
    "root = \"./data/\"\n",
    "data_train = pd.read_csv(root + \"atec_anti_fraud_train.csv\")\n",
    "# data_train_add = pd.read_csv(root + \"atec_anti_fraud_train_added.csv\")\n",
    "data_test = pd.read_csv(root + \"atec_anti_fraud_test_a.csv\")"
   ]
  },
  {
   "cell_type": "code",
   "execution_count": 5,
   "metadata": {},
   "outputs": [],
   "source": [
    "data_test = data_test.drop(['id'], 1)\n",
    "data_test = data_test.drop(['date'], 1)\n",
    "\n",
    "data_train = data_train.drop(['id'], 1)\n",
    "data_train = data_train.drop(['date'], 1)\n",
    "# data_train = pd.concat([data_train,data_train_add], sort=True)\n",
    "\n",
    "data_train['label'] = np.abs(data_train['label'])\n",
    "train_y = data_train['label']\n",
    "data_train = data_train.drop(['label'], 1)\n",
    "\n",
    "# 删除特征\n",
    "b = ['20','22','24','26','28','30','32','34','46','47','48','50','52','53']        \n",
    "c = [str(i) for i in range(64,72)]\n",
    "d = [str(i) for i in range(111,155)]\n",
    "\n",
    "drop_col = ['f'+i for i in (b+c+d)]\n",
    "\n",
    "data_test = data_test.drop(drop_col,1)\n",
    "data_train = data_train.drop(drop_col,1)"
   ]
  },
  {
   "cell_type": "code",
   "execution_count": 6,
   "metadata": {},
   "outputs": [],
   "source": [
    "train_x = data_train\n",
    "test_x = data_test\n",
    "# train_y = np.array(train_y).reshape(-1, 1)\n",
    "\n",
    "# train_x = np.array(train_x)\n",
    "# train_y = np.array(train_y).reshape(-1, 1)\n",
    "# test_x = np.array(test_x)\n",
    "\n",
    "X = np.array(train_x)\n",
    "Y = np.array(train_y)\n",
    "X_test = test_x\n",
    "\n",
    "X_test = test_x"
   ]
  },
  {
   "cell_type": "code",
   "execution_count": null,
   "metadata": {},
   "outputs": [
    {
     "name": "stdout",
     "output_type": "stream",
     "text": [
      "Fitting 5 folds for each of 24 candidates, totalling 120 fits\n"
     ]
    }
   ],
   "source": [
    "# k = 5\n",
    "# kf = KFold(n_splits = k, shuffle=True, random_state=2)\n",
    "# kf = KFold(n_splits=k)\n",
    "\n",
    "params_test={\n",
    "     'max_depth': [5,7],\n",
    "#      'gamma': [0, 0.01, 0.1], # 如果分裂能够使loss函数减小的值大于gamma，则这个节点才分裂。\n",
    "     'lambda_l2': [0, 0.1, 1], # L2正则项\n",
    "     'learning_rate': [0.01, 0.1],\n",
    "    'num_leaves': [31, 63]\n",
    "}\n",
    "\n",
    "    \n",
    "model_lgb = lgb.LGBMRegressor(\n",
    "    # max_depth, gamma, subsample+colsample_bytree, \n",
    "    boosting_type='gbdt',\n",
    "    objective='binary', # 二分类问题\n",
    "        num_leaves=31, # default=31\n",
    "        learning_rate=0.1, # = learning_rate\n",
    "        n_estimators=100, # default=100 \n",
    "         lambda_l2=0,\n",
    "#         gamma=0.1\n",
    "        max_depth=5,\n",
    "    seed=1,\n",
    "    metric='auc', \n",
    "    subsample = 0.8,\n",
    "    output_result = 'LightGBM_predict_result.txt',\n",
    "    colsample_bytree = 0.8)\n",
    "\n",
    "gsearch = GridSearchCV(estimator=model_lgb, \n",
    "                        param_grid=params_test, \n",
    "                        scoring='roc_auc', \n",
    "                        cv=5, \n",
    "                        verbose=1)\n",
    "\n",
    "gsearch.fit(X,Y)\n",
    "\n",
    "\n",
    "\n"
   ]
  },
  {
   "cell_type": "code",
   "execution_count": 11,
   "metadata": {},
   "outputs": [
    {
     "name": "stdout",
     "output_type": "stream",
     "text": [
      "Best parameters found by grid search are: {'lambda_l2': 0.1, 'learning_rate': 0.1, 'max_depth': 7, 'num_leaves': 63}\n",
      "Best score is: 0.9825989250931323\n"
     ]
    }
   ],
   "source": [
    "print('Best parameters found by grid search are:', gsearch.best_params_)\n",
    "print('Best score is:', gsearch.best_score_)"
   ]
  },
  {
   "cell_type": "code",
   "execution_count": null,
   "metadata": {},
   "outputs": [],
   "source": [
    "result = 0\n",
    "xgb_result = 0\n",
    "importances = 0\n",
    "\n",
    "# 计算结果\n",
    "result /= k\n",
    "xgb_result /= k\n",
    "\n",
    "# 检查结果\n",
    "print(result)\n",
    "print(max(xgb_result))\n",
    "print(min(xgb_result))"
   ]
  },
  {
   "cell_type": "code",
   "execution_count": null,
   "metadata": {},
   "outputs": [],
   "source": [
    "data_test = pd.read_csv(root + \"atec_anti_fraud_test_a.csv\")\n",
    "data_test['score'] = xgb_result\n",
    "data_test['score'].round(decimals=5)\n",
    "data = data_test[['id', 'score']]  #选择表格中的两列\n",
    "data.to_csv(root + \"result_717_1000.csv\", index=None, encoding='utf8')"
   ]
  }
 ],
 "metadata": {
  "kernelspec": {
   "display_name": "Python 3",
   "language": "python",
   "name": "python3"
  },
  "language_info": {
   "codemirror_mode": {
    "name": "ipython",
    "version": 3
   },
   "file_extension": ".py",
   "mimetype": "text/x-python",
   "name": "python",
   "nbconvert_exporter": "python",
   "pygments_lexer": "ipython3",
   "version": "3.6.5"
  }
 },
 "nbformat": 4,
 "nbformat_minor": 2
}
