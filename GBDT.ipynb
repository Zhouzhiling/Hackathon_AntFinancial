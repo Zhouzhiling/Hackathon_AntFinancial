{
 "cells": [
  {
   "cell_type": "code",
   "execution_count": 1,
   "metadata": {},
   "outputs": [],
   "source": [
    "import pandas as pd\n",
    "import lightgbm as lgb\n",
    "import numpy as np\n",
    "import pandas as pd\n",
    "from sklearn.model_selection import KFold\n",
    "from sklearn import metrics\n",
    "import matplotlib.pyplot as plt\n",
    "from sklearn.ensemble import GradientBoostingClassifier"
   ]
  },
  {
   "cell_type": "code",
   "execution_count": 2,
   "metadata": {},
   "outputs": [],
   "source": [
    "def Normalization(x):\n",
    "    max_val = max(x)\n",
    "    min_val = min(x)\n",
    "    return [(i-min_val)/(max_val-min_val) for i in x]"
   ]
  },
  {
   "cell_type": "code",
   "execution_count": 3,
   "metadata": {},
   "outputs": [],
   "source": [
    "def weight_lost_cal(real, pre):\n",
    "    \n",
    "    test_auc = metrics.roc_auc_score(real, pre)\n",
    "    fpr, tpr, thresholds = metrics.roc_curve(real, pre, pos_label=1) \n",
    "    score=0.4*tpr[np.where(fpr>=0.001)[0][0]]+0.3*tpr[np.where(fpr>=0.005)[0][0]]+0.3*tpr[np.where(fpr>=0.01)[0][0]] \n",
    "    \n",
    "    print(\"AUC value = \" + str(test_auc))\n",
    "    print(\"Score = \" + str(score))\n",
    "    return score"
   ]
  },
  {
   "cell_type": "code",
   "execution_count": 4,
   "metadata": {},
   "outputs": [],
   "source": [
    "# read data\n",
    "root = \"./data/\"\n",
    "data_train = pd.read_csv(root + \"atec_anti_fraud_train.csv\")\n",
    "# data_train_add = pd.read_csv(root + \"atec_anti_fraud_train_added.csv\")\n",
    "data_test = pd.read_csv(root + \"atec_anti_fraud_test_a.csv\")"
   ]
  },
  {
   "cell_type": "code",
   "execution_count": 5,
   "metadata": {},
   "outputs": [],
   "source": [
    "# data preprocessing\n",
    "# 是否要采样\n",
    "# data_train = data_train.sample(100000)\n",
    "# data_train = data_train[data_train['label'] != -1]\n",
    "\n",
    "data_test = data_test.drop(['id'], 1)\n",
    "data_test = data_test.drop(['date'], 1)\n",
    "\n",
    "data_train = data_train.drop(['id'], 1)\n",
    "data_train = data_train.drop(['date'], 1)\n",
    "# data_train = pd.concat([data_train,data_train_add], sort=True)\n",
    "\n",
    "data_train['label'] = np.abs(data_train['label'])\n",
    "train_y = data_train['label']\n",
    "data_train = data_train.drop(['label'], 1)\n",
    "\n",
    "# 删除特征\n",
    "b = ['20','22','24','26','28','30','32','34','46','47','48','50','52','53']        \n",
    "c = [str(i) for i in range(64,72)]\n",
    "d = [str(i) for i in range(111,155)]\n",
    "\n",
    "drop_col = ['f'+i for i in (b+c+d)]\n",
    "\n",
    "data_test = data_test.drop(drop_col,1)\n",
    "data_train = data_train.drop(drop_col,1)"
   ]
  },
  {
   "cell_type": "code",
   "execution_count": null,
   "metadata": {},
   "outputs": [],
   "source": []
  },
  {
   "cell_type": "code",
   "execution_count": 6,
   "metadata": {},
   "outputs": [],
   "source": [
    "train_x = data_train\n",
    "test_x = data_test\n",
    "# train_y = np.array(train_y).reshape(-1, 1)\n",
    "\n",
    "# train_x = np.array(train_x)\n",
    "# train_y = np.array(train_y).reshape(-1, 1)\n",
    "# test_x = np.array(test_x)\n",
    "\n",
    "X = np.array(train_x)\n",
    "Y = np.array(train_y)\n",
    "X_test = test_x"
   ]
  },
  {
   "cell_type": "code",
   "execution_count": 7,
   "metadata": {},
   "outputs": [],
   "source": [
    "X_test = test_x"
   ]
  },
  {
   "cell_type": "code",
   "execution_count": null,
   "metadata": {},
   "outputs": [],
   "source": [
    "# train\n",
    "# 交叉验证取平均\n",
    "k = 5\n",
    "kf = KFold(n_splits = k, shuffle=True, random_state=2)\n",
    "# kf = KFold(n_splits=k)\n",
    "\n",
    "eta = 0.05\n",
    "result = 0\n",
    "xgb_result = 0\n",
    "importances = 0\n",
    "for train_index, test_index in kf.split(X):\n",
    "    X1_train, X1_test = X[train_index], X[test_index]\n",
    "    Y1_train, Y1_test = Y[train_index], Y[test_index]\n",
    "\n",
    "#     data_train = lgb.Dataset(X1_train, Y1_train)\n",
    "#     data_vtest = lgb.Dataset(X1_test, Y1_test)\n",
    "#     data_rtest = lgb.Dataset(X_test)\n",
    "    print(\"Initializing......\")\n",
    "    gbdt = GradientBoostingClassifier(n_estimators=10, max_depth=6)\n",
    "    \n",
    "    print(\"Training......\")\n",
    "    bst = gbdt.fit(X1_train, Y1_train)\n",
    "    \n",
    "    print(\"TEST......\")\n",
    "    \n",
    "    y_predprob = gbdt.predict_proba(X1_test)[:,1]\n",
    "    print(\"AUC: %f\" % metrics.roc_auc_score(Y1_test, y_predprob))\n",
    "    \n",
    "    result = weight_lost_cal(Y1_test.reshape(-1, 1), y_predprob.reshape(-1, 1))\n",
    "    \n",
    "    xgb_result += gbdt.predict(X_test)  # 测试集   \n",
    "\n",
    "    print(\"done...\")\n",
    "    \n",
    "# 计算结果\n",
    "result /= k\n",
    "xgb_result /= k\n"
   ]
  },
  {
   "cell_type": "code",
   "execution_count": 10,
   "metadata": {},
   "outputs": [
    {
     "name": "stdout",
     "output_type": "stream",
     "text": [
      "0.45580126854216685\n",
      "0.8741891690562273\n",
      "0.00018952433537072687\n"
     ]
    }
   ],
   "source": [
    "print(result)\n",
    "print(max(xgb_result))\n",
    "print(min(xgb_result))"
   ]
  },
  {
   "cell_type": "code",
   "execution_count": 11,
   "metadata": {},
   "outputs": [],
   "source": [
    "# 输出\n",
    "data_test = pd.read_csv(root + \"atec_anti_fraud_test_a.csv\")\n",
    "data_test['score'] = xgb_result\n",
    "data_test['score'].round(decimals=5)\n",
    "data = data_test[['id', 'score']]  #选择表格中的两列\n",
    "data.to_csv(root + \"result_717_1000_V2.csv\", index=None, encoding='utf8')"
   ]
  },
  {
   "cell_type": "code",
   "execution_count": null,
   "metadata": {},
   "outputs": [],
   "source": []
  }
 ],
 "metadata": {
  "kernelspec": {
   "display_name": "Python 3",
   "language": "python",
   "name": "python3"
  },
  "language_info": {
   "codemirror_mode": {
    "name": "ipython",
    "version": 3
   },
   "file_extension": ".py",
   "mimetype": "text/x-python",
   "name": "python",
   "nbconvert_exporter": "python",
   "pygments_lexer": "ipython3",
   "version": "3.6.5"
  }
 },
 "nbformat": 4,
 "nbformat_minor": 2
}
